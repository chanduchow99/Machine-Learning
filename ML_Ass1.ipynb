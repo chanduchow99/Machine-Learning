{
  "nbformat": 4,
  "nbformat_minor": 0,
  "metadata": {
    "colab": {
      "provenance": [],
      "toc_visible": true,
      "authorship_tag": "ABX9TyOGldaAGCcbCpHmYdOs1ZjK",
      "include_colab_link": true
    },
    "kernelspec": {
      "name": "python3",
      "display_name": "Python 3"
    },
    "language_info": {
      "name": "python"
    }
  },
  "cells": [
    {
      "cell_type": "markdown",
      "metadata": {
        "id": "view-in-github",
        "colab_type": "text"
      },
      "source": [
        "<a href=\"https://colab.research.google.com/github/chanduchow99/Machine-Learning/blob/main/ML_Ass1.ipynb\" target=\"_parent\"><img src=\"https://colab.research.google.com/assets/colab-badge.svg\" alt=\"Open In Colab\"/></a>"
      ]
    },
    {
      "cell_type": "code",
      "source": [
        "ages = [19, 22, 19, 24, 20, 25, 26, 24, 25, 24]\n",
        "\n",
        "# Sort the list and find the min and max age\n",
        "\n",
        "ages.sort()\n",
        "min_age = ages[0]\n",
        "max_age = ages[-1]\n",
        "\n",
        "print(f\"Sorted ages: {ages}\")\n",
        "print(f\"Min age: {min_age}\")\n",
        "print(f\"Max age: {max_age}\")\n",
        "\n",
        "# Add the min age and the max age again to the list\n",
        "ages.append(min_age)\n",
        "ages.append(max_age)\n",
        "\n",
        "print(f\"Ages after adding min and max again: {ages}\")\n",
        "\n",
        "# Find the median age\n",
        "ages.sort()\n",
        "n = len(ages)\n",
        "if n % 2 == 0:\n",
        "    median_age = (ages[n//2 - 1] + ages[n//2]) / 2\n",
        "else:\n",
        "    median_age = ages[n//2]\n",
        "\n",
        "print(f\"Median age: {median_age}\")\n",
        "\n",
        "# Find the average age\n",
        "average_age = sum(ages) / n\n",
        "\n",
        "print(f\"Average age: {average_age}\")\n",
        "\n",
        "# Find the range of the ages\n",
        "age_range = max_age - min_age\n",
        "\n",
        "print(f\"Age range: {age_range}\")\n"
      ],
      "metadata": {
        "colab": {
          "base_uri": "https://localhost:8080/"
        },
        "id": "wjxmEqMSFO-4",
        "outputId": "9fb669c7-69fc-49ca-f767-b16b505d02d8"
      },
      "execution_count": 1,
      "outputs": [
        {
          "output_type": "stream",
          "name": "stdout",
          "text": [
            "Sorted ages: [19, 19, 20, 22, 24, 24, 24, 25, 25, 26]\n",
            "Min age: 19\n",
            "Max age: 26\n",
            "Ages after adding min and max again: [19, 19, 20, 22, 24, 24, 24, 25, 25, 26, 19, 26]\n",
            "Median age: 24.0\n",
            "Average age: 22.75\n",
            "Age range: 7\n"
          ]
        }
      ]
    },
    {
      "cell_type": "code",
      "source": [
        "\n",
        "# Create an empty dictionary called dog\n",
        "dog = {}\n",
        "\n",
        "# Add name, color, breed, legs, age to the dog dictionary\n",
        "dog['name'] = 'Bunny'\n",
        "dog['color'] = 'White'\n",
        "dog['breed'] = 'Labrador'\n",
        "dog['legs'] = 4\n",
        "dog['age'] = 4\n",
        "\n",
        "print(\"Dog dictionary:\", dog)\n",
        "\n",
        "# Create a student dictionary and add various properties\n",
        "student = {\n",
        "    'first_name': 'Chandu',\n",
        "    'last_name': 'Chow',\n",
        "    'gender': 'Male',\n",
        "    'age': 23,\n",
        "    'marital_status': 'Single',\n",
        "    'skills': ['Python', 'Java'],\n",
        "    'country': 'USA',\n",
        "    'city': 'Kansas',\n",
        "    'address': 'Maadhi matram Kansas eey'\n",
        "}\n",
        "\n",
        "print(\"Student dictionary:\", student)\n",
        "\n",
        "# Get the length of the student dictionary\n",
        "student_length = len(student)\n",
        "print(\"Length of student dictionary:\", student_length)\n",
        "\n",
        "# Get the value of skills and check the data type\n",
        "skills = student['skills']\n",
        "print(\"Skills:\", skills)\n",
        "print(\"Data type of skills:\", type(skills))\n",
        "\n",
        "# Modify the skills values by adding one or two skills\n",
        "student['skills'].append('C++')\n",
        "student['skills'].append('SQL')\n",
        "print(\"Updated skills:\", student['skills'])\n",
        "\n",
        "# Get the dictionary keys as a list\n",
        "student_keys = list(student.keys())\n",
        "print(\"Student dictionary keys:\", student_keys)\n",
        "\n",
        "# Get the dictionary values as a list\n",
        "student_values = list(student.values())\n",
        "print(\"Student dictionary values:\", student_values)"
      ],
      "metadata": {
        "colab": {
          "base_uri": "https://localhost:8080/"
        },
        "id": "VxgWrZ2kGpxw",
        "outputId": "4a451751-0173-41a0-e0df-30cb37d1b1c9"
      },
      "execution_count": 3,
      "outputs": [
        {
          "output_type": "stream",
          "name": "stdout",
          "text": [
            "Dog dictionary: {'name': 'Bunny', 'color': 'White', 'breed': 'Labrador', 'legs': 4, 'age': 4}\n",
            "Student dictionary: {'first_name': 'Chandu', 'last_name': 'Chow', 'gender': 'Male', 'age': 23, 'marital_status': 'Single', 'skills': ['Python', 'Java'], 'country': 'USA', 'city': 'Kansas', 'address': 'Maadhi matram Kansas eey'}\n",
            "Length of student dictionary: 9\n",
            "Skills: ['Python', 'Java']\n",
            "Data type of skills: <class 'list'>\n",
            "Updated skills: ['Python', 'Java', 'C++', 'SQL']\n",
            "Student dictionary keys: ['first_name', 'last_name', 'gender', 'age', 'marital_status', 'skills', 'country', 'city', 'address']\n",
            "Student dictionary values: ['Chandu', 'Chow', 'Male', 23, 'Single', ['Python', 'Java', 'C++', 'SQL'], 'USA', 'Kansas', 'Maadhi matram Kansas eey']\n"
          ]
        }
      ]
    },
    {
      "cell_type": "code",
      "source": [
        "# Tuples of imaginary siblings\n",
        "sisters = ('Meghana', 'Divya', 'Sidhi')\n",
        "brothers = ('Navadeep', 'Nani', 'Jagadeesh','sidhu')\n",
        "\n",
        "# Join the tuples\n",
        "siblings = sisters + brothers\n",
        "print(\"Siblings:\", siblings)\n",
        "\n",
        "# Count the number of siblings\n",
        "number_of_siblings = len(siblings)\n",
        "print(\"Number of siblings:\", number_of_siblings)\n",
        "\n",
        "# Add parents to the siblings tuple to form family_members\n",
        "parents = ('Father', 'Padmalatha')\n",
        "family_members = siblings + parents\n",
        "print(\"Family members:\", family_members)"
      ],
      "metadata": {
        "colab": {
          "base_uri": "https://localhost:8080/"
        },
        "id": "x5kZ5ZKGHFjD",
        "outputId": "1552470c-45b7-4571-9213-dd1e6ef7236c"
      },
      "execution_count": 4,
      "outputs": [
        {
          "output_type": "stream",
          "name": "stdout",
          "text": [
            "Siblings: ('Meghana', 'Divya', 'Sidhi', 'Navadeep', 'Nani', 'Jagadeesh', 'sidhu')\n",
            "Number of siblings: 7\n",
            "Family members: ('Meghana', 'Divya', 'Sidhi', 'Navadeep', 'Nani', 'Jagadeesh', 'sidhu', 'Father', 'Padmalatha')\n"
          ]
        }
      ]
    },
    {
      "cell_type": "code",
      "source": [
        "it_companies = {'Facebook', 'Google', 'Microsoft', 'Apple', 'IBM', 'Oracle', 'Amazon'}\n",
        "\n",
        "# Find the length of the set it_companies\n",
        "length_it_companies = len(it_companies)\n",
        "print(\"Length of it_companies:\", length_it_companies)\n",
        "\n",
        "# Add 'Twitter' to it_companies\n",
        "it_companies.add('Twitter')\n",
        "print(\"it_companies after adding Twitter:\", it_companies)\n",
        "\n",
        "# Insert multiple IT companies at once to the set it_companies\n",
        "it_companies.update({'Tmobile', 'Dell', 'Accenture'})\n",
        "print(\"it_companies after adding multiple companies:\", it_companies)\n",
        "\n",
        "# Remove one of the companies from the set it_companies\n",
        "it_companies.remove('IBM')  # Remove IBM as an example\n",
        "print(\"it_companies after removing IBM:\", it_companies)\n",
        "\n",
        "# Difference between remove and discard\n",
        "# remove raises an error if the item is not found, discard does not\n",
        "# it_companies.remove('NonExistentCompany')  # This would raise a KeyError\n",
        "it_companies.discard('NonExistentCompany')  # This will not raise an error\n",
        "\n",
        "# Join A and B\n",
        "A = {19, 22, 24, 20, 25, 26}\n",
        "B = {19, 22, 20, 25, 26, 24, 28, 27}\n",
        "A_union_B = A.union(B)\n",
        "print(\"A union B:\", A_union_B)\n",
        "\n",
        "# Find A intersection B\n",
        "A_intersection_B = A.intersection(B)\n",
        "print(\"A intersection B:\", A_intersection_B)\n",
        "\n",
        "# Is A a subset of B\n",
        "is_A_subset_B = A.issubset(B)\n",
        "print(\"Is A a subset of B:\", is_A_subset_B)\n",
        "\n",
        "# Are A and B disjoint sets\n",
        "are_A_B_disjoint = A.isdisjoint(B)\n",
        "print(\"Are A and B disjoint sets:\", are_A_B_disjoint)\n",
        "\n",
        "# Join A with B and B with A\n",
        "A.update(B)\n",
        "print(\"A after joining with B:\", A)\n",
        "\n",
        "# Reset A and B for the next operation\n",
        "A = {19, 22, 24, 20, 25, 26}\n",
        "B.update(A)\n",
        "print(\"B after joining with A:\", B)\n",
        "\n",
        "# What is the symmetric difference between A and B\n",
        "A = {19, 22, 24, 20, 25, 26}\n",
        "B = {19, 22, 20, 25, 26, 24, 28, 27}\n",
        "A_symmetric_difference_B = A.symmetric_difference(B)\n",
        "print(\"Symmetric difference between A and B:\", A_symmetric_difference_B)\n",
        "\n",
        "# Delete the sets completely\n",
        "del A\n",
        "del B\n",
        "\n",
        "\n",
        "# Convert the ages list to a set and compare the length of the list and the set\n",
        "age = [22, 19, 24, 25, 26, 24, 25, 24]\n",
        "age_set = set(age)\n",
        "print(\"Length of age list:\", len(age))\n",
        "print(\"Length of age set:\", len(age_set))\n"
      ],
      "metadata": {
        "colab": {
          "base_uri": "https://localhost:8080/"
        },
        "id": "EMsf4t5wHMRC",
        "outputId": "1501e4ae-27ee-4903-c0b1-b978b4b76fd6"
      },
      "execution_count": 5,
      "outputs": [
        {
          "output_type": "stream",
          "name": "stdout",
          "text": [
            "Length of it_companies: 7\n",
            "it_companies after adding Twitter: {'Twitter', 'Oracle', 'Google', 'Microsoft', 'Amazon', 'IBM', 'Facebook', 'Apple'}\n",
            "it_companies after adding multiple companies: {'Twitter', 'Dell', 'Accenture', 'Tmobile', 'Facebook', 'Apple', 'Oracle', 'Google', 'Microsoft', 'Amazon', 'IBM'}\n",
            "it_companies after removing IBM: {'Twitter', 'Dell', 'Accenture', 'Tmobile', 'Facebook', 'Apple', 'Oracle', 'Google', 'Microsoft', 'Amazon'}\n",
            "A union B: {19, 20, 22, 24, 25, 26, 27, 28}\n",
            "A intersection B: {19, 20, 22, 24, 25, 26}\n",
            "Is A a subset of B: True\n",
            "Are A and B disjoint sets: False\n",
            "A after joining with B: {19, 20, 22, 24, 25, 26, 27, 28}\n",
            "B after joining with A: {19, 20, 22, 24, 25, 26, 27, 28}\n",
            "Symmetric difference between A and B: {27, 28}\n",
            "Length of age list: 8\n",
            "Length of age set: 5\n"
          ]
        }
      ]
    },
    {
      "cell_type": "code",
      "source": [
        "import math\n",
        "\n",
        "# Given radius\n",
        "radius = 30\n",
        "area_of_circle = math.pi * radius ** 2\n",
        "circum_of_circle = 2 * math.pi * radius\n",
        "\n",
        "print(f\"Area of circle: {area_of_circle}\")\n",
        "print(f\"Circumference of circle: {circum_of_circle}\")\n",
        "\n",
        "# Taking radius as user input\n",
        "user_radius = float(input(\"Enter the radius of the circle: \"))\n",
        "user_area_of_circle = math.pi * user_radius ** 2\n",
        "\n",
        "print(f\"Area of circle with radius {user_radius}: {user_area_of_circle}\")"
      ],
      "metadata": {
        "colab": {
          "base_uri": "https://localhost:8080/"
        },
        "id": "ffl3MZJ0HV3x",
        "outputId": "bd337ea5-8bd7-4484-ec65-bc7b1ff19a7e"
      },
      "execution_count": 6,
      "outputs": [
        {
          "output_type": "stream",
          "name": "stdout",
          "text": [
            "Area of circle: 2827.4333882308138\n",
            "Circumference of circle: 188.49555921538757\n",
            "Enter the radius of the circle: 1\n",
            "Area of circle with radius 1.0: 3.141592653589793\n"
          ]
        }
      ]
    },
    {
      "cell_type": "code",
      "source": [
        "sentence = \"I am a teacher and I love to inspire and teach people\"\n",
        "words = sentence.split()\n",
        "unique_words = set(words)\n",
        "number_of_unique_words = len(unique_words)\n",
        "\n",
        "print(\"Number of unique words:\", number_of_unique_words)\n",
        "print(\"Unique words:\", unique_words)"
      ],
      "metadata": {
        "colab": {
          "base_uri": "https://localhost:8080/"
        },
        "id": "xo9pSgWxHcDU",
        "outputId": "256219a9-643c-4bb9-ae61-cd56b1ca00b9"
      },
      "execution_count": 7,
      "outputs": [
        {
          "output_type": "stream",
          "name": "stdout",
          "text": [
            "Number of unique words: 10\n",
            "Unique words: {'I', 'am', 'teacher', 'a', 'teach', 'inspire', 'and', 'to', 'people', 'love'}\n"
          ]
        }
      ]
    },
    {
      "cell_type": "code",
      "source": [
        "print(\"Name\\t\\tAge\\tCountry\\tCity\")\n",
        "print(\"Asabeneh\\t250\\tFinland\\tHelsinki\")"
      ],
      "metadata": {
        "colab": {
          "base_uri": "https://localhost:8080/"
        },
        "id": "NReE7iliHh5_",
        "outputId": "09f0d219-8ddb-40e8-ee05-ddec067a82b1"
      },
      "execution_count": 8,
      "outputs": [
        {
          "output_type": "stream",
          "name": "stdout",
          "text": [
            "Name\t\tAge\tCountry\tCity\n",
            "Asabeneh\t250\tFinland\tHelsinki\n"
          ]
        }
      ]
    },
    {
      "cell_type": "code",
      "source": [
        "radius = 10\n",
        "area = 3.14 * radius ** 2\n",
        "\n",
        "output = f\"The area of a circle with radius {radius} is {area} meters square.\"\n",
        "print(output)"
      ],
      "metadata": {
        "colab": {
          "base_uri": "https://localhost:8080/"
        },
        "id": "UqHyfTViHmZW",
        "outputId": "a043eec7-9356-410f-b17a-4d7e96c932d6"
      },
      "execution_count": 9,
      "outputs": [
        {
          "output_type": "stream",
          "name": "stdout",
          "text": [
            "The area of a circle with radius 10 is 314.0 meters square.\n"
          ]
        }
      ]
    },
    {
      "cell_type": "code",
      "source": [
        "def lbs_to_kgs(weight_lbs):\n",
        "    return round(weight_lbs * 0.45359237, 2)\n",
        "\n",
        "N = int(input(\"Enter the number of students: \"))\n",
        "\n",
        "weights_lbs = []\n",
        "for i in range(N):\n",
        "    weight = float(input(f\"Enter weight of student {i+1} in lbs: \"))\n",
        "    weights_lbs.append(weight)\n",
        "\n",
        "weights_kgs = []\n",
        "for weight in weights_lbs:\n",
        "    weights_kgs.append(lbs_to_kgs(weight))\n",
        "\n",
        "\n",
        "print(\"Weights in lbs:\", weights_lbs)\n",
        "print(\"Weights in kgs:\", weights_kgs)"
      ],
      "metadata": {
        "colab": {
          "base_uri": "https://localhost:8080/"
        },
        "id": "O0Lhg9aOHr0x",
        "outputId": "356e24f1-b09c-46f7-83dc-efb2ae2169af"
      },
      "execution_count": 10,
      "outputs": [
        {
          "output_type": "stream",
          "name": "stdout",
          "text": [
            "Enter the number of students: 2\n",
            "Enter weight of student 1 in lbs: 1\n",
            "Enter weight of student 2 in lbs: 2\n",
            "Weights in lbs: [1.0, 2.0]\n",
            "Weights in kgs: [0.45, 0.91]\n"
          ]
        }
      ]
    }
  ]
}