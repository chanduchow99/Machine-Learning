{
  "nbformat": 4,
  "nbformat_minor": 0,
  "metadata": {
    "colab": {
      "provenance": [],
      "authorship_tag": "ABX9TyPh/SrtgvVvpReOoLVKiTXi",
      "include_colab_link": true
    },
    "kernelspec": {
      "name": "python3",
      "display_name": "Python 3"
    },
    "language_info": {
      "name": "python"
    }
  },
  "cells": [
    {
      "cell_type": "markdown",
      "metadata": {
        "id": "view-in-github",
        "colab_type": "text"
      },
      "source": [
        "<a href=\"https://colab.research.google.com/github/chanduchow99/Machine-Learning/blob/main/ML_Assignment3.ipynb\" target=\"_parent\"><img src=\"https://colab.research.google.com/assets/colab-badge.svg\" alt=\"Open In Colab\"/></a>"
      ]
    },
    {
      "cell_type": "code",
      "execution_count": null,
      "metadata": {
        "colab": {
          "base_uri": "https://localhost:8080/"
        },
        "id": "w9mQljlw11pz",
        "outputId": "7932cd3b-e47d-48bc-b2b7-babd0629b4b0"
      },
      "outputs": [
        {
          "output_type": "stream",
          "name": "stdout",
          "text": [
            "Array shape after reshaping: (3, 5)\n",
            "Array after replacing max in each row with 0:\n",
            " [[ 0  2  9 13  2]\n",
            " [ 4 11  0 10 15]\n",
            " [10 11  0 19  7]]\n"
          ]
        }
      ],
      "source": [
        "import numpy as np\n",
        "\n",
        "# Create a random vector of size 15 with integers in the range 1-20\n",
        "random_vector = np.random.randint(1, 21, size=15)\n",
        "\n",
        "# Reshape the array to 3 by 5 and Print array shape\n",
        "reshaped_array = random_vector.reshape(3, 5)\n",
        "print(\"Array shape after reshaping:\", reshaped_array.shape)\n",
        "\n",
        "# Replace the max in each row by 0\n",
        "max_indices = np.argmax(reshaped_array, axis=1)\n",
        "for i, max_index in enumerate(max_indices):\n",
        "    reshaped_array[i, max_index] = 0\n",
        "\n",
        "print(\"Array after replacing max in each row with 0:\\n\", reshaped_array)\n"
      ]
    },
    {
      "cell_type": "code",
      "source": [
        "import numpy as np\n",
        "\n",
        "# Creating a 2-dimensional array of size 4x3 with 4-byte integer elements\n",
        "array = np.zeros((4, 3), dtype=np.int32)\n",
        "\n",
        "# Printing shape, size, and data type of the array\n",
        "print(\"Shape of the array:\", array.shape)\n",
        "print(\"Size of the array:\", array.size)\n",
        "print(\"Data type of the array:\", array.dtype)"
      ],
      "metadata": {
        "colab": {
          "base_uri": "https://localhost:8080/"
        },
        "id": "vIN1mryK3S52",
        "outputId": "67962e04-0a91-463d-aece-d45ba9395b91"
      },
      "execution_count": null,
      "outputs": [
        {
          "output_type": "stream",
          "name": "stdout",
          "text": [
            "Shape of the array: (4, 3)\n",
            "Size of the array: 12\n",
            "Data type of the array: int32\n"
          ]
        }
      ]
    },
    {
      "cell_type": "code",
      "source": [
        "# Given array\n",
        "e = np.array([[3, -2], [1, 0]])\n",
        "\n",
        "# Computing eigenvalues and right eigenvectors\n",
        "eigenvalues, right_eigenvectors = np.linalg.eig(e)\n",
        "\n",
        "print(\"Eigenvalues:\", eigenvalues)\n",
        "print(\"Right Eigenvectors:\\n\", right_eigenvectors)"
      ],
      "metadata": {
        "colab": {
          "base_uri": "https://localhost:8080/"
        },
        "id": "XoIoJVOH4P-l",
        "outputId": "1d9b3289-bb48-4868-a85d-c544bd8e3775"
      },
      "execution_count": null,
      "outputs": [
        {
          "output_type": "stream",
          "name": "stdout",
          "text": [
            "Eigenvalues: [2. 1.]\n",
            "Right Eigenvectors:\n",
            " [[0.89442719 0.70710678]\n",
            " [0.4472136  0.70710678]]\n"
          ]
        }
      ]
    },
    {
      "cell_type": "code",
      "source": [
        "# Given array\n",
        "array = np.array([[0, 1, 2], [3, 4, 5]])\n",
        "\n",
        "# Computing the sum of diagonal elements\n",
        "diagonal_sum = np.trace(array)\n",
        "\n",
        "print(\"Sum of diagonal elements:\", diagonal_sum)"
      ],
      "metadata": {
        "colab": {
          "base_uri": "https://localhost:8080/"
        },
        "id": "DVwnCFpU4SGw",
        "outputId": "d37b10aa-a558-42f4-e350-82b44c76ba92"
      },
      "execution_count": null,
      "outputs": [
        {
          "output_type": "stream",
          "name": "stdout",
          "text": [
            "Sum of diagonal elements: 4\n"
          ]
        }
      ]
    },
    {
      "cell_type": "code",
      "source": [
        "# Given array\n",
        "array = np.array([[1, 2], [3, 4], [5, 6]])\n",
        "\n",
        "# Reshape 3x2\n",
        "reshaped_array_3x2 = np.reshape(array, (3, 2))\n",
        "\n",
        "# Reshape 2x3\n",
        "reshaped_array_2x3 = np.reshape(array, (2, 3))\n",
        "\n",
        "print(\"Reshaped 3x2 array:\\n\", reshaped_array_3x2)\n",
        "print(\"Reshaped 2x3 array:\\n\", reshaped_array_2x3)\n"
      ],
      "metadata": {
        "colab": {
          "base_uri": "https://localhost:8080/"
        },
        "id": "0FV1VZ1p4XKE",
        "outputId": "1809cda2-cdf9-4997-e751-5f4931a0268b"
      },
      "execution_count": null,
      "outputs": [
        {
          "output_type": "stream",
          "name": "stdout",
          "text": [
            "Reshaped 3x2 array:\n",
            " [[1 2]\n",
            " [3 4]\n",
            " [5 6]]\n",
            "Reshaped 2x3 array:\n",
            " [[1 2 3]\n",
            " [4 5 6]]\n"
          ]
        }
      ]
    }
  ]
}